{
 "cells": [
  {
   "cell_type": "code",
   "execution_count": 10,
   "id": "d1952bdb-0d1a-4667-885d-df182099ab13",
   "metadata": {},
   "outputs": [
    {
     "name": "stdout",
     "output_type": "stream",
     "text": [
      "Requirement already satisfied: yfinance in c:\\users\\eb521vc\\appdata\\local\\anaconda3\\lib\\site-packages (0.2.56)\n",
      "Requirement already satisfied: pandas>=1.3.0 in c:\\users\\eb521vc\\appdata\\local\\anaconda3\\lib\\site-packages (from yfinance) (2.2.3)\n",
      "Requirement already satisfied: numpy>=1.16.5 in c:\\users\\eb521vc\\appdata\\local\\anaconda3\\lib\\site-packages (from yfinance) (1.26.4)\n",
      "Requirement already satisfied: requests>=2.31 in c:\\users\\eb521vc\\appdata\\local\\anaconda3\\lib\\site-packages (from yfinance) (2.32.2)\n",
      "Requirement already satisfied: multitasking>=0.0.7 in c:\\users\\eb521vc\\appdata\\local\\anaconda3\\lib\\site-packages (from yfinance) (0.0.11)\n",
      "Requirement already satisfied: platformdirs>=2.0.0 in c:\\users\\eb521vc\\appdata\\local\\anaconda3\\lib\\site-packages (from yfinance) (3.10.0)\n",
      "Requirement already satisfied: pytz>=2022.5 in c:\\users\\eb521vc\\appdata\\local\\anaconda3\\lib\\site-packages (from yfinance) (2024.1)\n",
      "Requirement already satisfied: frozendict>=2.3.4 in c:\\users\\eb521vc\\appdata\\local\\anaconda3\\lib\\site-packages (from yfinance) (2.4.2)\n",
      "Requirement already satisfied: peewee>=3.16.2 in c:\\users\\eb521vc\\appdata\\local\\anaconda3\\lib\\site-packages (from yfinance) (3.17.9)\n",
      "Requirement already satisfied: beautifulsoup4>=4.11.1 in c:\\users\\eb521vc\\appdata\\local\\anaconda3\\lib\\site-packages (from yfinance) (4.12.3)\n",
      "Requirement already satisfied: soupsieve>1.2 in c:\\users\\eb521vc\\appdata\\local\\anaconda3\\lib\\site-packages (from beautifulsoup4>=4.11.1->yfinance) (2.5)\n",
      "Requirement already satisfied: python-dateutil>=2.8.2 in c:\\users\\eb521vc\\appdata\\local\\anaconda3\\lib\\site-packages (from pandas>=1.3.0->yfinance) (2.9.0.post0)\n",
      "Requirement already satisfied: tzdata>=2022.7 in c:\\users\\eb521vc\\appdata\\local\\anaconda3\\lib\\site-packages (from pandas>=1.3.0->yfinance) (2023.3)\n",
      "Requirement already satisfied: charset-normalizer<4,>=2 in c:\\users\\eb521vc\\appdata\\local\\anaconda3\\lib\\site-packages (from requests>=2.31->yfinance) (2.0.4)\n",
      "Requirement already satisfied: idna<4,>=2.5 in c:\\users\\eb521vc\\appdata\\local\\anaconda3\\lib\\site-packages (from requests>=2.31->yfinance) (3.7)\n",
      "Requirement already satisfied: urllib3<3,>=1.21.1 in c:\\users\\eb521vc\\appdata\\local\\anaconda3\\lib\\site-packages (from requests>=2.31->yfinance) (2.2.2)\n",
      "Requirement already satisfied: certifi>=2017.4.17 in c:\\users\\eb521vc\\appdata\\local\\anaconda3\\lib\\site-packages (from requests>=2.31->yfinance) (2024.6.2)\n",
      "Requirement already satisfied: six>=1.5 in c:\\users\\eb521vc\\appdata\\local\\anaconda3\\lib\\site-packages (from python-dateutil>=2.8.2->pandas>=1.3.0->yfinance) (1.16.0)\n",
      "Requirement already satisfied: pandas in c:\\users\\eb521vc\\appdata\\local\\anaconda3\\lib\\site-packages (2.2.3)\n",
      "Requirement already satisfied: numpy>=1.26.0 in c:\\users\\eb521vc\\appdata\\local\\anaconda3\\lib\\site-packages (from pandas) (1.26.4)\n",
      "Requirement already satisfied: python-dateutil>=2.8.2 in c:\\users\\eb521vc\\appdata\\local\\anaconda3\\lib\\site-packages (from pandas) (2.9.0.post0)\n",
      "Requirement already satisfied: pytz>=2020.1 in c:\\users\\eb521vc\\appdata\\local\\anaconda3\\lib\\site-packages (from pandas) (2024.1)\n",
      "Requirement already satisfied: tzdata>=2022.7 in c:\\users\\eb521vc\\appdata\\local\\anaconda3\\lib\\site-packages (from pandas) (2023.3)\n",
      "Requirement already satisfied: six>=1.5 in c:\\users\\eb521vc\\appdata\\local\\anaconda3\\lib\\site-packages (from python-dateutil>=2.8.2->pandas) (1.16.0)\n",
      "Requirement already satisfied: matplotlib in c:\\users\\eb521vc\\appdata\\local\\anaconda3\\lib\\site-packages (3.8.4)\n",
      "Requirement already satisfied: contourpy>=1.0.1 in c:\\users\\eb521vc\\appdata\\local\\anaconda3\\lib\\site-packages (from matplotlib) (1.2.0)\n",
      "Requirement already satisfied: cycler>=0.10 in c:\\users\\eb521vc\\appdata\\local\\anaconda3\\lib\\site-packages (from matplotlib) (0.11.0)\n",
      "Requirement already satisfied: fonttools>=4.22.0 in c:\\users\\eb521vc\\appdata\\local\\anaconda3\\lib\\site-packages (from matplotlib) (4.51.0)\n",
      "Requirement already satisfied: kiwisolver>=1.3.1 in c:\\users\\eb521vc\\appdata\\local\\anaconda3\\lib\\site-packages (from matplotlib) (1.4.4)\n",
      "Requirement already satisfied: numpy>=1.21 in c:\\users\\eb521vc\\appdata\\local\\anaconda3\\lib\\site-packages (from matplotlib) (1.26.4)\n",
      "Requirement already satisfied: packaging>=20.0 in c:\\users\\eb521vc\\appdata\\local\\anaconda3\\lib\\site-packages (from matplotlib) (23.2)\n",
      "Requirement already satisfied: pillow>=8 in c:\\users\\eb521vc\\appdata\\local\\anaconda3\\lib\\site-packages (from matplotlib) (10.3.0)\n",
      "Requirement already satisfied: pyparsing>=2.3.1 in c:\\users\\eb521vc\\appdata\\local\\anaconda3\\lib\\site-packages (from matplotlib) (3.0.9)\n",
      "Requirement already satisfied: python-dateutil>=2.7 in c:\\users\\eb521vc\\appdata\\local\\anaconda3\\lib\\site-packages (from matplotlib) (2.9.0.post0)\n",
      "Requirement already satisfied: six>=1.5 in c:\\users\\eb521vc\\appdata\\local\\anaconda3\\lib\\site-packages (from python-dateutil>=2.7->matplotlib) (1.16.0)\n",
      "Requirement already satisfied: bs4 in c:\\users\\eb521vc\\appdata\\local\\anaconda3\\lib\\site-packages (0.0.2)\n",
      "Requirement already satisfied: beautifulsoup4 in c:\\users\\eb521vc\\appdata\\local\\anaconda3\\lib\\site-packages (from bs4) (4.12.3)\n",
      "Requirement already satisfied: soupsieve>1.2 in c:\\users\\eb521vc\\appdata\\local\\anaconda3\\lib\\site-packages (from beautifulsoup4->bs4) (2.5)\n",
      "Requirement already satisfied: lxml in c:\\users\\eb521vc\\appdata\\local\\anaconda3\\lib\\site-packages (5.2.1)\n",
      "Requirement already satisfied: yfinance in c:\\users\\eb521vc\\appdata\\local\\anaconda3\\lib\\site-packages (0.2.56)\n",
      "Requirement already satisfied: pandas>=1.3.0 in c:\\users\\eb521vc\\appdata\\local\\anaconda3\\lib\\site-packages (from yfinance) (2.2.3)\n",
      "Requirement already satisfied: numpy>=1.16.5 in c:\\users\\eb521vc\\appdata\\local\\anaconda3\\lib\\site-packages (from yfinance) (1.26.4)\n",
      "Requirement already satisfied: requests>=2.31 in c:\\users\\eb521vc\\appdata\\local\\anaconda3\\lib\\site-packages (from yfinance) (2.32.2)\n",
      "Requirement already satisfied: multitasking>=0.0.7 in c:\\users\\eb521vc\\appdata\\local\\anaconda3\\lib\\site-packages (from yfinance) (0.0.11)\n",
      "Requirement already satisfied: platformdirs>=2.0.0 in c:\\users\\eb521vc\\appdata\\local\\anaconda3\\lib\\site-packages (from yfinance) (3.10.0)\n",
      "Requirement already satisfied: pytz>=2022.5 in c:\\users\\eb521vc\\appdata\\local\\anaconda3\\lib\\site-packages (from yfinance) (2024.1)\n",
      "Requirement already satisfied: frozendict>=2.3.4 in c:\\users\\eb521vc\\appdata\\local\\anaconda3\\lib\\site-packages (from yfinance) (2.4.2)\n",
      "Requirement already satisfied: peewee>=3.16.2 in c:\\users\\eb521vc\\appdata\\local\\anaconda3\\lib\\site-packages (from yfinance) (3.17.9)\n",
      "Requirement already satisfied: beautifulsoup4>=4.11.1 in c:\\users\\eb521vc\\appdata\\local\\anaconda3\\lib\\site-packages (from yfinance) (4.12.3)\n",
      "Requirement already satisfied: soupsieve>1.2 in c:\\users\\eb521vc\\appdata\\local\\anaconda3\\lib\\site-packages (from beautifulsoup4>=4.11.1->yfinance) (2.5)\n",
      "Requirement already satisfied: python-dateutil>=2.8.2 in c:\\users\\eb521vc\\appdata\\local\\anaconda3\\lib\\site-packages (from pandas>=1.3.0->yfinance) (2.9.0.post0)\n",
      "Requirement already satisfied: tzdata>=2022.7 in c:\\users\\eb521vc\\appdata\\local\\anaconda3\\lib\\site-packages (from pandas>=1.3.0->yfinance) (2023.3)\n",
      "Requirement already satisfied: charset-normalizer<4,>=2 in c:\\users\\eb521vc\\appdata\\local\\anaconda3\\lib\\site-packages (from requests>=2.31->yfinance) (2.0.4)\n",
      "Requirement already satisfied: idna<4,>=2.5 in c:\\users\\eb521vc\\appdata\\local\\anaconda3\\lib\\site-packages (from requests>=2.31->yfinance) (3.7)\n",
      "Requirement already satisfied: urllib3<3,>=1.21.1 in c:\\users\\eb521vc\\appdata\\local\\anaconda3\\lib\\site-packages (from requests>=2.31->yfinance) (2.2.2)\n",
      "Requirement already satisfied: certifi>=2017.4.17 in c:\\users\\eb521vc\\appdata\\local\\anaconda3\\lib\\site-packages (from requests>=2.31->yfinance) (2024.6.2)\n",
      "Requirement already satisfied: six>=1.5 in c:\\users\\eb521vc\\appdata\\local\\anaconda3\\lib\\site-packages (from python-dateutil>=2.8.2->pandas>=1.3.0->yfinance) (1.16.0)\n",
      "Requirement already satisfied: pandas in c:\\users\\eb521vc\\appdata\\local\\anaconda3\\lib\\site-packages (2.2.3)\n",
      "Requirement already satisfied: numpy>=1.26.0 in c:\\users\\eb521vc\\appdata\\local\\anaconda3\\lib\\site-packages (from pandas) (1.26.4)\n",
      "Requirement already satisfied: python-dateutil>=2.8.2 in c:\\users\\eb521vc\\appdata\\local\\anaconda3\\lib\\site-packages (from pandas) (2.9.0.post0)\n",
      "Requirement already satisfied: pytz>=2020.1 in c:\\users\\eb521vc\\appdata\\local\\anaconda3\\lib\\site-packages (from pandas) (2024.1)\n",
      "Requirement already satisfied: tzdata>=2022.7 in c:\\users\\eb521vc\\appdata\\local\\anaconda3\\lib\\site-packages (from pandas) (2023.3)\n",
      "Requirement already satisfied: six>=1.5 in c:\\users\\eb521vc\\appdata\\local\\anaconda3\\lib\\site-packages (from python-dateutil>=2.8.2->pandas) (1.16.0)\n"
     ]
    }
   ],
   "source": [
    "!pip install yfinance\n",
    "!pip install pandas\n",
    "!pip install matplotlib\n",
    "!pip install bs4\n",
    "!pip install lxml\n",
    "\n",
    "!pip install --upgrade yfinance\n",
    "!pip install --upgrade pandas"
   ]
  },
  {
   "cell_type": "code",
   "execution_count": 20,
   "id": "088684d9-bca8-4fdf-b1fb-fd34a66ba370",
   "metadata": {},
   "outputs": [],
   "source": [
    "import ssl\n",
    "ssl._create_default_https_context = ssl._create_unverified_context"
   ]
  },
  {
   "cell_type": "code",
   "execution_count": 21,
   "id": "c46a70ca-f597-43f9-9a91-671b823ee58b",
   "metadata": {},
   "outputs": [],
   "source": [
    "import yfinance as yf\n",
    "import pandas as pd\n",
    "import matplotlib.pyplot as plt\n",
    "from bs4 import BeautifulSoup\n",
    "import requests"
   ]
  },
  {
   "cell_type": "code",
   "execution_count": 22,
   "id": "3656d4de-ae02-423d-8184-f0bff812280f",
   "metadata": {},
   "outputs": [
    {
     "name": "stderr",
     "output_type": "stream",
     "text": [
      "Failed to get ticker 'TSLA' reason: HTTPSConnectionPool(host='fc.yahoo.com', port=443): Max retries exceeded with url: / (Caused by SSLError(SSLCertVerificationError(1, '[SSL: CERTIFICATE_VERIFY_FAILED] certificate verify failed: unable to get local issuer certificate (_ssl.c:1000)')))\n",
      "$TSLA: possibly delisted; no timezone found\n"
     ]
    },
    {
     "data": {
      "text/html": [
       "<div>\n",
       "<style scoped>\n",
       "    .dataframe tbody tr th:only-of-type {\n",
       "        vertical-align: middle;\n",
       "    }\n",
       "\n",
       "    .dataframe tbody tr th {\n",
       "        vertical-align: top;\n",
       "    }\n",
       "\n",
       "    .dataframe thead th {\n",
       "        text-align: right;\n",
       "    }\n",
       "</style>\n",
       "<table border=\"1\" class=\"dataframe\">\n",
       "  <thead>\n",
       "    <tr style=\"text-align: right;\">\n",
       "      <th></th>\n",
       "      <th>Date</th>\n",
       "      <th>Open</th>\n",
       "      <th>High</th>\n",
       "      <th>Low</th>\n",
       "      <th>Close</th>\n",
       "      <th>Adj Close</th>\n",
       "      <th>Volume</th>\n",
       "    </tr>\n",
       "  </thead>\n",
       "  <tbody>\n",
       "  </tbody>\n",
       "</table>\n",
       "</div>"
      ],
      "text/plain": [
       "Empty DataFrame\n",
       "Columns: [Date, Open, High, Low, Close, Adj Close, Volume]\n",
       "Index: []"
      ]
     },
     "execution_count": 22,
     "metadata": {},
     "output_type": "execute_result"
    }
   ],
   "source": [
    "#Extract Tesla stock data using yfinance\n",
    "tesla = yf.Ticker(\"TSLA\")\n",
    "tesla_stock_data = tesla.history(period=\"max\")\n",
    "tesla_stock_data.reset_index(inplace=True)\n",
    "tesla_stock_data.head()"
   ]
  },
  {
   "cell_type": "code",
   "execution_count": null,
   "id": "2ad4d638-19a7-4fa2-ae43-b5b64b8e3816",
   "metadata": {},
   "outputs": [],
   "source": [
    "#Web scrape Tesla revenue data\n",
    "url = \"https://www.macrotrends.net/stocks/charts/TSLA/tesla/revenue\"\n",
    "html_data = requests.get(url).text\n",
    "\n",
    "soup = BeautifulSoup(html_data, \"html.parser\")\n",
    "tables = soup.find_all(\"table\")\n",
    "\n",
    "for table in tables:\n",
    "    if \"Tesla Quaterly Revenue\" in table.text:\n",
    "        tesla_revenue_table = table\n",
    "        break\n",
    "\n",
    "#Extract table into df\n",
    "tesla_revenue = pd.read_html(str(tesla_revenue_table))[0]\n",
    "tesla_revenue.columns = [\"Date\", \"Revenue\"]\n",
    "tesla_revenue[\"Revenue\"] = tesla_revenue[\"Revenue\"].replace({'\\$': '', ',': ''}, regex=True)\n",
    "tesla_revenue = tesla_revenue.dropna()\n",
    "tesla_revenue[\"Revenue\"] = tesla_revenue[\"Revenue\"].astype(float)\n",
    "tesla_revenue.head()"
   ]
  },
  {
   "cell_type": "code",
   "execution_count": null,
   "id": "9a1ed18a-96f4-4ec5-99e3-57c985a1df7d",
   "metadata": {},
   "outputs": [],
   "source": [
    "#Extract GameStop stock data using yfinance\n",
    "gme = yf.Ticker(\"GME\")\n",
    "gme_stock_data = gme.history(period=\"max\")\n",
    "gme_stock_data.reset_index(inplace=True)\n",
    "gme_stock_data.head()"
   ]
  },
  {
   "cell_type": "code",
   "execution_count": null,
   "id": "8929fde7-3b4f-4981-8d26-2fa3b8769811",
   "metadata": {},
   "outputs": [],
   "source": [
    "#Web scrape GameStop revenue data\n",
    "url = \"https://www.macrotrends.net/stocks/charts/GME/gamestop/revenue\"\n",
    "html_data = requests.get(url).text\n",
    "\n",
    "soup = BeautifulSoup(html_data, \"html.parser\")\n",
    "tables = soup.find_all(\"table\")\n",
    "\n",
    "for table in tables:\n",
    "    if \"GameStop Quarterly Revenue\" in table.text:\n",
    "        gme_revenue_table = table\n",
    "        break\n",
    "\n",
    "#Extract table into df\n",
    "gme_revenue = pd.read_html(str(gme_revenue_table))[0]\n",
    "gme_revenue.columns = [\"Date\", \"Revenue\"]\n",
    "gme_revenue[\"Revenue\"] = gme_revenue[\"Revenue\"].replace({'\\$': '', ',': ''}, regex=True)\n",
    "gme_revenue = gme_revenue.dropna()\n",
    "gme_revenue[\"Revenue\"] = gme_revenue[\"Revenue\"].astype(float)\n",
    "gme_revenue.head()"
   ]
  },
  {
   "cell_type": "code",
   "execution_count": null,
   "id": "91180620-385e-4289-b131-22edc91ae937",
   "metadata": {},
   "outputs": [],
   "source": [
    "#Tesla Dashboad\n",
    "fig, ax1 = plt.subplots(figsize=(14,6))\n",
    "\n",
    "color = 'tab:blue'\n",
    "ax1.set_xlabel('Date')\n",
    "ax1.set_ylabel('Stock Price (Close)', color=color)\n",
    "ax1.plot(tesla_stock_data['Date'], tesla_stock_data['Close'], color=color)\n",
    "ax1.tick_params(axis='y', labelcolor=color)\n",
    "\n",
    "ax2 = ax1.twinx()\n",
    "\n",
    "color = 'tab:red'\n",
    "ax2.set_ylabel('Revenue (Millions)', color=color)\n",
    "ax2.plot(tesla_revenue['Date'], tesla_revenue['Revenue'], color=color)\n",
    "ax2.tick_params(axis='y', labelcolor=color)\n",
    "\n",
    "plt.title('Tesla Stock Price and Revenue')\n",
    "plt.show()"
   ]
  },
  {
   "cell_type": "code",
   "execution_count": null,
   "id": "47da0943-4381-4adc-9f3e-68e5a3ba87ff",
   "metadata": {},
   "outputs": [],
   "source": [
    "#GameStop Dashboad\n",
    "fig, ax1 = plt.subplots(figsize=(14,6))\n",
    "\n",
    "color = 'tab:blue'\n",
    "ax1.set_xlabel('Date')\n",
    "ax1.set_ylabel('Stock Price (Close)', color=color)\n",
    "ax1.plot(gme_stock_data['Date'], gme_stock_data['Close'], color=color)\n",
    "ax1.tick_params(axis='y', labelcolor=color)\n",
    "\n",
    "ax2 = ax1.twinx()\n",
    "\n",
    "color = 'tab:red'\n",
    "ax2.set_ylabel('Revenue (Millions)', color=color)\n",
    "ax2.plot(gme_revenue['Date'], gme_revenue['Revenue'], color=color)\n",
    "ax2.tick_params(axis='y', labelcolor=color)\n",
    "\n",
    "plt.title('GameStop Stock Price and Revenue')\n",
    "plt.show()"
   ]
  },
  {
   "cell_type": "code",
   "execution_count": null,
   "id": "78a4e069-438f-4cf7-bde4-e2d3268a5c58",
   "metadata": {},
   "outputs": [],
   "source": []
  }
 ],
 "metadata": {
  "kernelspec": {
   "display_name": "Python 3 (ipykernel)",
   "language": "python",
   "name": "python3"
  },
  "language_info": {
   "codemirror_mode": {
    "name": "ipython",
    "version": 3
   },
   "file_extension": ".py",
   "mimetype": "text/x-python",
   "name": "python",
   "nbconvert_exporter": "python",
   "pygments_lexer": "ipython3",
   "version": "3.12.4"
  }
 },
 "nbformat": 4,
 "nbformat_minor": 5
}
